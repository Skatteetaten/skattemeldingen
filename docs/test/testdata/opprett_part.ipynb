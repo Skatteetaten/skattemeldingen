{
 "cells": [
  {
   "cell_type": "markdown",
   "source": [
    "# Opprett part\n",
    "Denne notebooken beskriver hvordan en går frem for å gjøre klar en part til test for skattemeldingen etter den er funnet med [TENOR testdatasøk](https://www.skatteetaten.no/skjema/testdata/)\n"
   ],
   "metadata": {
    "collapsed": false
   }
  },
  {
   "cell_type": "code",
   "execution_count": null,
   "outputs": [],
   "source": [
    "from docs.test.testinnsending.skatteetaten_api import main_relay\n",
    "from requests import post\n",
    "\n",
    "token = main_relay() #TIN en kan bruke til å logge på med finner du i TENOR\n",
    "token[\"content-type\"] = \"application/json\"\n",
    "inntektsår = \"2022\"\n",
    "part_som_skal_klargjøres = \"313910717\"\n",
    "url = f\"https://idporten-api-test.sits.no/api/skattemelding/v2/opprettpart/{inntektsår}/{part_som_skal_klargjøres}\"\n",
    "opprettpart_requeset = post(url, headers=token)\n"
   ],
   "metadata": {
    "collapsed": false
   }
  }
 ],
 "metadata": {
  "kernelspec": {
   "display_name": "Python 3",
   "language": "python",
   "name": "python3"
  },
  "language_info": {
   "codemirror_mode": {
    "name": "ipython",
    "version": 2
   },
   "file_extension": ".py",
   "mimetype": "text/x-python",
   "name": "python",
   "nbconvert_exporter": "python",
   "pygments_lexer": "ipython2",
   "version": "2.7.6"
  }
 },
 "nbformat": 4,
 "nbformat_minor": 0
}
