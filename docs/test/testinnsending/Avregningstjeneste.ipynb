{
 "cells": [
  {
   "cell_type": "code",
   "execution_count": null,
   "id": "a2c642db",
   "metadata": {},
   "outputs": [],
   "source": [
    "try: \n",
    "    from altinn3 import *\n",
    "    from skatteetaten_api import main_relay\n",
    "    from pathlib import Path\n",
    "    from requests import post, get\n",
    "    import pprint\n",
    "except ImportError as e:\n",
    "    print(\"Mangler en eller avhengighet, installer dem via pip, se requierments.txt fil for detaljer\")\n",
    "    raise ImportError(e)\n",
    "    \n",
    "    \n",
    "#hjelpe metode om du vil se en request printet som curl \n",
    "def print_request_as_curl(r):\n",
    "    command = \"curl -X {method} -H {headers} -d '{data}' '{uri}'\"\n",
    "    method = r.request.method\n",
    "    uri = r.request.url\n",
    "    data = r.request.body\n",
    "    headers = ['\"{0}: {1}\"'.format(k, v) for k, v in r.request.headers.items()]\n",
    "    headers = \" -H \".join(headers)\n",
    "    print(command.format(method=method, headers=headers, data=data, uri=uri))\n",
    "\n",
    "\n",
    "def pp_respons(r):\n",
    "    pp = pprint.PrettyPrinter(indent=4)\n",
    "\n",
    "    print(f\"{r.request.method} {r.request.url}\\n\")\n",
    "    pp.pprint(f\"{r.request.headers}\")\n",
    "    print(f\"http {r.status_code}\")\n",
    "    pp.pprint(f\"{r.headers}\\n{r.text}\")\n",
    "\n",
    "# Logg på: \n",
    "idporten_header = main_relay()"
   ]
  },
  {
   "cell_type": "code",
   "execution_count": null,
   "id": "7f9dcebd",
   "metadata": {},
   "outputs": [],
   "source": [
    "inntektsaar = 2021\n",
    "identifikator = \"12112300188\"\n",
    "api_path_avregning = f\"/api/skattemelding/v2/avregning/avregn/{inntektsaar}/{identifikator}\"\n",
    "base_url = \"https://idporten-api-test.sits.no{api_path}\"\n",
    "\n",
    "avregning_payload = {\"beregnetSkatt\": 100000}\n",
    "\n",
    "avregningsresultat = post(base_url.format(api_path=api_path_avregning), \n",
    "                          headers=idporten_header, \n",
    "                          json=avregning_payload)\n",
    "\n",
    "if avregningsresultat:\n",
    "    print(avregningsresultat.json())\n",
    "else:\n",
    "    pp_respons(avregningsresultat)"
   ]
  }
 ],
 "metadata": {
  "kernelspec": {
   "display_name": "Python 3 (ipykernel)",
   "language": "python",
   "name": "python3"
  },
  "language_info": {
   "codemirror_mode": {
    "name": "ipython",
    "version": 3
   },
   "file_extension": ".py",
   "mimetype": "text/x-python",
   "name": "python",
   "nbconvert_exporter": "python",
   "pygments_lexer": "ipython3",
   "version": "3.9.9"
  }
 },
 "nbformat": 4,
 "nbformat_minor": 5
}
