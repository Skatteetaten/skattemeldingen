{
 "cells": [
  {
   "cell_type": "code",
   "execution_count": null,
   "id": "initial_id",
   "metadata": {
    "collapsed": true
   },
   "outputs": [],
   "source": [
    "from skatteetaten_api import get_access_token\n",
    "import requests"
   ]
  },
  {
   "cell_type": "code",
   "execution_count": null,
   "outputs": [],
   "source": [
    "skatteetaten_url = \"https://idporten-api-test.sits.no\"\n",
    "idporten_header = get_access_token()"
   ],
   "metadata": {
    "collapsed": false
   },
   "id": "44b52835aea2a926"
  },
  {
   "cell_type": "code",
   "execution_count": null,
   "outputs": [],
   "source": [
    "sergId = 1\n",
    "fnr = \"06891548603\"\n",
    "inntektsår = \"2023\"\n",
    "url_eiendomssoek = skatteetaten_url + f\"/api/skattemelding/v2/eiendom/soek/{inntektsår}?query=Sagemoveien\"\n",
    "url_formuesgrunnlag= skatteetaten_url + f\"/api/skattemelding/v2/eiendom/formuesgrunnlag/2022/{sergId}/{fnr}\"\n",
    "\n",
    "soek_eiendom_request = requests.get(url_eiendomssoek, headers=idporten_header).json()\n",
    "hent_formuesgrunnlag = requests.get(url_formuesgrunnlag, headers=idporten_header).json()"
   ],
   "metadata": {
    "collapsed": false
   },
   "id": "88984d567353a503"
  },
  {
   "cell_type": "code",
   "execution_count": null,
   "outputs": [],
   "source": [],
   "metadata": {
    "collapsed": false
   },
   "id": "f0c5d311672486e6"
  }
 ],
 "metadata": {
  "kernelspec": {
   "display_name": "Python 3",
   "language": "python",
   "name": "python3"
  },
  "language_info": {
   "codemirror_mode": {
    "name": "ipython",
    "version": 2
   },
   "file_extension": ".py",
   "mimetype": "text/x-python",
   "name": "python",
   "nbconvert_exporter": "python",
   "pygments_lexer": "ipython2",
   "version": "2.7.6"
  }
 },
 "nbformat": 4,
 "nbformat_minor": 5
}
