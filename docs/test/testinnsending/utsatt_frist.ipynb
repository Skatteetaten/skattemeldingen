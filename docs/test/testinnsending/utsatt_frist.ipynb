{
 "cells": [
  {
   "cell_type": "markdown",
   "source": "# Søk om utsatt frist for et set av klienter",
   "metadata": {
    "collapsed": false
   }
  },
  {
   "metadata": {
    "collapsed": false,
    "ExecuteTime": {
     "end_time": "2025-03-21T09:07:14.466149Z",
     "start_time": "2025-03-21T09:07:14.076900Z"
    }
   },
   "cell_type": "code",
   "source": [
    "from docs.test.testinnsending.skatteetaten_api import get_access_token\n",
    "from requests import post\n",
    "from faker import Faker\n",
    "import jwt\n",
    "import uuid\n",
    "\n",
    "token = get_access_token()\n",
    "jwt_token = token[\"Authorization\"].replace(\"Bearer \", \"\")\n",
    "\n",
    "\n",
    "#henter innlogget bruker fra tokenet\n",
    "identifikator = jwt.decode(jwt_token, options={\"verify_signature\": False})[\"sub\"]\n",
    "inntektsår = \"2025\""
   ],
   "outputs": [
    {
     "ename": "AssertionError",
     "evalue": "",
     "output_type": "error",
     "traceback": [
      "\u001B[0;31m---------------------------------------------------------------------------\u001B[0m",
      "\u001B[0;31mAssertionError\u001B[0m                            Traceback (most recent call last)",
      "Cell \u001B[0;32mIn[2], line 7\u001B[0m\n\u001B[1;32m      4\u001B[0m \u001B[38;5;28;01mimport\u001B[39;00m\u001B[38;5;250m \u001B[39m\u001B[38;5;21;01mjwt\u001B[39;00m\n\u001B[1;32m      5\u001B[0m \u001B[38;5;28;01mimport\u001B[39;00m\u001B[38;5;250m \u001B[39m\u001B[38;5;21;01muuid\u001B[39;00m\n\u001B[0;32m----> 7\u001B[0m token \u001B[38;5;241m=\u001B[39m \u001B[43mget_access_token\u001B[49m\u001B[43m(\u001B[49m\u001B[43m)\u001B[49m\n\u001B[1;32m      8\u001B[0m jwt_token \u001B[38;5;241m=\u001B[39m token[\u001B[38;5;124m\"\u001B[39m\u001B[38;5;124mAuthorization\u001B[39m\u001B[38;5;124m\"\u001B[39m]\u001B[38;5;241m.\u001B[39mreplace(\u001B[38;5;124m\"\u001B[39m\u001B[38;5;124mBearer \u001B[39m\u001B[38;5;124m\"\u001B[39m, \u001B[38;5;124m\"\u001B[39m\u001B[38;5;124m\"\u001B[39m)\n\u001B[1;32m     11\u001B[0m \u001B[38;5;66;03m#henter innlogget bruker fra tokenet\u001B[39;00m\n",
      "File \u001B[0;32m~/workspace/skattemeldingen/docs/test/testinnsending/skatteetaten_api.py:186\u001B[0m, in \u001B[0;36mget_access_token\u001B[0;34m(**kwargs)\u001B[0m\n\u001B[1;32m    183\u001B[0m     \u001B[38;5;28mprint\u001B[39m(\u001B[38;5;124m\"\u001B[39m\u001B[38;5;124mAuthorization token received\u001B[39m\u001B[38;5;124m\"\u001B[39m)\n\u001B[1;32m    184\u001B[0m     \u001B[38;5;28mprint\u001B[39m(auth_token_json)\n\u001B[0;32m--> 186\u001B[0m \u001B[38;5;28;01massert\u001B[39;00m \u001B[38;5;28mlen\u001B[39m(auth_token_json[\u001B[38;5;124m'\u001B[39m\u001B[38;5;124mstate\u001B[39m\u001B[38;5;124m'\u001B[39m]) \u001B[38;5;241m==\u001B[39m \u001B[38;5;241m1\u001B[39m \u001B[38;5;129;01mand\u001B[39;00m auth_token_json[\u001B[38;5;124m'\u001B[39m\u001B[38;5;124mstate\u001B[39m\u001B[38;5;124m'\u001B[39m][\u001B[38;5;241m0\u001B[39m] \u001B[38;5;241m==\u001B[39m state\n\u001B[1;32m    188\u001B[0m \u001B[38;5;66;03m# Use the authorization code to get access and id token from /token\u001B[39;00m\n\u001B[1;32m    189\u001B[0m \u001B[38;5;66;03m# https://docs.digdir.no/docs/idporten/oidc/oidc_protocol_token.html\u001B[39;00m\n\u001B[1;32m    190\u001B[0m payload \u001B[38;5;241m=\u001B[39m {\n\u001B[1;32m    191\u001B[0m            \u001B[38;5;124m'\u001B[39m\u001B[38;5;124mclient_id\u001B[39m\u001B[38;5;124m'\u001B[39m: CLIENT_ID,\n\u001B[1;32m    192\u001B[0m            \u001B[38;5;124m'\u001B[39m\u001B[38;5;124mgrant_type\u001B[39m\u001B[38;5;124m'\u001B[39m: \u001B[38;5;124m'\u001B[39m\u001B[38;5;124mauthorization_code\u001B[39m\u001B[38;5;124m'\u001B[39m,\n\u001B[0;32m   (...)\u001B[0m\n\u001B[1;32m    195\u001B[0m            \u001B[38;5;124m'\u001B[39m\u001B[38;5;124mcode_verifier\u001B[39m\u001B[38;5;124m'\u001B[39m: code_verifier,\n\u001B[1;32m    196\u001B[0m }\n",
      "\u001B[0;31mAssertionError\u001B[0m: "
     ]
    }
   ],
   "execution_count": 2
  },
  {
   "metadata": {
    "ExecuteTime": {
     "end_time": "2025-03-21T09:07:25.963485Z",
     "start_time": "2025-03-21T09:07:25.781810Z"
    }
   },
   "cell_type": "code",
   "source": [
    "def lag_indentifikator(identifikator: str) -> dict():\n",
    "    fake = Faker()\n",
    "\n",
    "    if len(identifikator) > 9:\n",
    "        identifikator_dict = {\"foedselsnummer\" : identifikator}\n",
    "    else:\n",
    "        identifikator_dict = {\"organisasjonsnummer\" : identifikator}\n",
    "\n",
    "    kandidat = {\n",
    "        \"identifikator\": identifikator_dict,\n",
    "        \"naering\":  True, #kan ikke mikse True / False av næring i en og samme request\n",
    "        \"navn\": fake.name(),\n",
    "        \"epost\": fake.email(),\n",
    "    }\n",
    "    return kandidat\n",
    "\n",
    "\n",
    "parter = [\"21909899726\", \"18853449683\"]\n",
    "\n",
    "klienter = [lag_indentifikator(kandidat) for kandidat in parter]\n",
    "\n",
    "payload = {\"referanse\": str(uuid.uuid4()),\n",
    "           \"klienter\": klienter}\n",
    "\n",
    "url_path = f\"/api/skattemelding/v2/utsattfristsoeknad/bulk/{identifikator}\"\n",
    "base_url = \"https://idporten-api-test.sits.no\""
   ],
   "outputs": [],
   "execution_count": 3
  },
  {
   "metadata": {
    "ExecuteTime": {
     "end_time": "2025-03-18T14:34:50.384127Z",
     "start_time": "2025-03-18T14:34:50.189440Z"
    }
   },
   "cell_type": "code",
   "source": [
    "utsatt_frist_request = post(base_url+url_path, headers=token, json=payload)\n",
    "print(f\"http: {utsatt_frist_request.status_code}\")\n",
    "print(utsatt_frist_request.text)"
   ],
   "outputs": [
    {
     "name": "stdout",
     "output_type": "stream",
     "text": [
      "http: 500\n",
      "{\"errorMessage\":\"underliggende feil mot utsattfrist mottak\",\"feilkode\":\"SME-EKSTERN-002\",\"korrelasjonsId\":\"132151dc-ca0f-e7ed-23af-8293f3c94f72\"}\n"
     ]
    }
   ],
   "execution_count": 3
  },
  {
   "metadata": {
    "ExecuteTime": {
     "end_time": "2025-03-21T09:07:31.970618Z",
     "start_time": "2025-03-21T09:07:30.463284Z"
    }
   },
   "cell_type": "code",
   "source": [
    "url_path = f\"/api/skattemelding/v2/utsattfristsoeknad/{identifikator}\"\n",
    "\n",
    "payload = {\"referanse\": str(uuid.uuid4()),\n",
    "           \"klient\": lag_indentifikator(\"21909899726\")}\n",
    "\n",
    "utsatt_frist_request_singel = post(base_url+url_path, headers=token, json=payload)\n",
    "print(f\"http: {utsatt_frist_request_singel.status_code}\")\n",
    "print(utsatt_frist_request_singel.text)"
   ],
   "outputs": [
    {
     "name": "stdout",
     "output_type": "stream",
     "text": [
      "http: 200\n",
      "{\"gjeldendeInntektsaar\":2024,\"innsender\":\"10894799493\",\"klient\":\"21909899726\",\"beskrivelse\":\"Ingen endring ble gjort for innsendt skattepliktig.\"}\n"
     ]
    }
   ],
   "execution_count": 4
  },
  {
   "metadata": {},
   "cell_type": "markdown",
   "source": ""
  }
 ],
 "metadata": {
  "kernelspec": {
   "display_name": "Python 3",
   "language": "python",
   "name": "python3"
  },
  "language_info": {
   "codemirror_mode": {
    "name": "ipython",
    "version": 2
   },
   "file_extension": ".py",
   "mimetype": "text/x-python",
   "name": "python",
   "nbconvert_exporter": "python",
   "pygments_lexer": "ipython2",
   "version": "2.7.6"
  }
 },
 "nbformat": 4,
 "nbformat_minor": 0
}
