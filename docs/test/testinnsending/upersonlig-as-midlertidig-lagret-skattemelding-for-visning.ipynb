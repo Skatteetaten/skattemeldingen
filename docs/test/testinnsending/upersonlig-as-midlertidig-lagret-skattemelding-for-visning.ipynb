{
 "cells": [
  {
   "cell_type": "markdown",
   "metadata": {
    "pycharm": {
     "name": "#%% md\n"
    }
   },
   "source": [
    "# Testinnsending av upersonlig skattemelding for midlertidig lagring"
   ]
  },
  {
   "cell_type": "markdown",
   "metadata": {
    "pycharm": {
     "name": "#%% md\n"
    }
   },
   "source": [
    "Denne demoen er ment for å vise hvordan flyten for et sluttbrukersystem kan opprette en midlertidig lagret upersonlig skattemelding."
   ]
  },
  {
   "cell_type": "code",
   "execution_count": null,
   "metadata": {
    "pycharm": {
     "name": "#%%\n"
    }
   },
   "outputs": [],
   "source": [
    "try:\n",
    "    from skatteetaten_api import get_access_token, decode_dokument\n",
    "    import requests\n",
    "    import base64\n",
    "    import xmltodict\n",
    "    import xml.dom.minidom\n",
    "except ImportError as e:\n",
    "    print(\"Mangler en eller avhengighet, installer dem via pip, se requierments.txt fil for detaljer\")\n",
    "    raise ImportError(e)\n"
   ]
  },
  {
   "cell_type": "markdown",
   "metadata": {
    "pycharm": {
     "name": "#%% md\n"
    }
   },
   "source": [
    "## Variabler som må endres i test\n",
    "Før testscriptet kjøres trengs det bare å definere URLer som skal brukes."
   ]
  },
  {
   "cell_type": "code",
   "execution_count": null,
   "metadata": {
    "pycharm": {
     "name": "#%%\n"
    }
   },
   "outputs": [],
   "source": [
    "skatteetaten_url = \"https://idporten-api-test.sits.no\"\n",
    "\n",
    "fnr=\"12877597928\" #oppdater med test fødselsnummerene du har fått tildelt\n",
    "orgnr_as = \"312787016\"\n",
    "\n",
    "# oppdater med inntektsaar innsendingen gjelder for\n",
    "inntektsaar = 2023"
   ]
  },
  {
   "cell_type": "markdown",
   "metadata": {
    "pycharm": {
     "name": "#%% md\n"
    }
   },
   "source": [
    "## Generer ID-porten token\n",
    "Tokenet er gyldig i 300 sekunder, rekjørt denne biten om du ikke har nådd Altinn3 biten innen 300 sekunder"
   ]
  },
  {
   "cell_type": "code",
   "execution_count": null,
   "metadata": {
    "pycharm": {
     "name": "#%%\n"
    }
   },
   "outputs": [],
   "source": [
    "idporten_header = get_access_token()"
   ]
  },
  {
   "cell_type": "markdown",
   "metadata": {
    "pycharm": {
     "name": "#%% md\n"
    }
   },
   "source": [
    "# Hent utkast og gjeldende\n",
    "Her legger vi inn fødselsnummeret vi logget oss inn med. Dersom du velger et annet fødselsnummer så må den du logget på med ha tilgang til skattemeldingen du ønsker å hente\n",
    "\n",
    "Parten nedenfor er brukt for internt test, pass på bruk deres egne testparter når dere tester\n"
   ]
  },
  {
   "cell_type": "code",
   "execution_count": null,
   "metadata": {
    "pycharm": {
     "name": "#%%\n"
    }
   },
   "outputs": [],
   "source": [
    "s = requests.Session()\n",
    "s.headers = dict(idporten_header)"
   ]
  },
  {
   "cell_type": "markdown",
   "metadata": {
    "pycharm": {
     "name": "#%% md\n"
    }
   },
   "source": [
    "### Utkast"
   ]
  },
  {
   "cell_type": "code",
   "execution_count": null,
   "metadata": {
    "pycharm": {
     "name": "#%%\n"
    }
   },
   "outputs": [],
   "source": [
    "url_gjeldende = f'{skatteetaten_url}/api/skattemelding/v2/{inntektsaar}/{orgnr_as}'\n",
    "r_gjeldende = s.get(url_gjeldende)\n",
    "r_gjeldende"
   ]
  },
  {
   "cell_type": "code",
   "execution_count": null,
   "metadata": {
    "pycharm": {
     "name": "#%%\n"
    }
   },
   "outputs": [],
   "source": [
    "print(r_gjeldende.text)"
   ]
  },
  {
   "cell_type": "markdown",
   "metadata": {
    "pycharm": {
     "name": "#%% md\n"
    }
   },
   "source": [
    "## Svar fra hent gjeldende \n",
    "\n",
    "### Gjeldende dokument referanse: \n",
    "I responsen på alle api kallene, være seg utkast/fastsatt eller gjeldene, så følger det med en dokumentreferanse. \n",
    "For å kalle valider tjenesten, er en avhengig av å bruke korrekt referanse til gjeldende skattemelding. \n",
    "\n",
    "Cellen nedenfor henter ut gjeldende dokumentreferanse printer ut responsen fra hent gjeldende kallet "
   ]
  },
  {
   "cell_type": "code",
   "execution_count": null,
   "metadata": {
    "pycharm": {
     "name": "#%%\n"
    }
   },
   "outputs": [],
   "source": [
    "sjekk_svar = r_gjeldende\n",
    "\n",
    "sme_og_naering_respons = xmltodict.parse(sjekk_svar.text)\n",
    "skattemelding_base64 = sme_og_naering_respons[\"skattemeldingOgNaeringsspesifikasjonforespoerselResponse\"][\"dokumenter\"][\"skattemeldingdokument\"]\n",
    "sme_base64 = skattemelding_base64[\"content\"]\n",
    "dokref = sme_og_naering_respons[\"skattemeldingOgNaeringsspesifikasjonforespoerselResponse\"][\"dokumenter\"]['skattemeldingdokument']['id']\n",
    "decoded_sme_xml = decode_dokument(skattemelding_base64)\n",
    "sme_utkast = xml.dom.minidom.parseString(decoded_sme_xml[\"content\"]).toprettyxml()\n",
    "sme_gjeldende_dict = xmltodict.parse(sme_utkast)\n",
    "partsnummer = sme_gjeldende_dict[\"skattemelding\"][\"partsnummer\"]\n",
    "\n",
    "print(f\"Responsen fra hent gjeldende ser slik ut, gjeldende dokumentrerefanse er {dokref}\")\n",
    "print(sjekk_svar.request.method ,sjekk_svar.request.url)\n",
    "print(xml.dom.minidom.parseString(sjekk_svar.text).toprettyxml())\n"
   ]
  },
  {
   "cell_type": "code",
   "execution_count": null,
   "metadata": {
    "pycharm": {
     "name": "#%%\n"
    }
   },
   "outputs": [],
   "source": [
    "#Legg merge til dokumenter.dokument.type = skattemeldingUpersonlig\n",
    "\n",
    "with open(f\"../../../src/resources/eksempler/{inntektsaar}/Naeringspesifikasjon-AS-v3.xml\", 'r') as f:\n",
    "    naering_as_xml = f.read()\n",
    "    \n",
    "innsendingstype = \"komplett\"\n",
    "naeringsspesifikasjoner_as_b64 = base64.b64encode(naering_as_xml.encode(\"utf-8\"))\n",
    "naeringsspesifikasjoner_as_b64 = str(naeringsspesifikasjoner_as_b64.decode(\"utf-8\"))\n",
    "naeringsspesifikasjoner_base64=naeringsspesifikasjoner_as_b64\n",
    "\n",
    "\n",
    "with open(f\"../../../src/resources/eksempler/{inntektsaar}/upersonligSkattemeldingV2.xml\", 'r') as f:\n",
    "    sme_verdi_bak_aksjer = f.read().format(partsnummer=partsnummer)\n",
    "    sme_b64 = base64.b64encode(sme_verdi_bak_aksjer.encode(\"utf-8\"))\n",
    "    sme_b64 = str(sme_b64.decode(\"utf-8\"))\n",
    "\n",
    "\n",
    "valider_konvlutt_v2 = \"\"\"\n",
    "<?xml version=\"1.0\" encoding=\"utf-8\" ?>\n",
    "<skattemeldingOgNaeringsspesifikasjonRequest xmlns=\"no:skatteetaten:fastsetting:formueinntekt:skattemeldingognaeringsspesifikasjon:request:v2\">\n",
    "    <dokumenter>\n",
    "        <dokument>\n",
    "            <type>skattemeldingUpersonlig</type>\n",
    "            <encoding>utf-8</encoding>\n",
    "            <content>{sme_base64}</content>\n",
    "        </dokument>\n",
    "        <dokument>\n",
    "            <type>naeringsspesifikasjon</type>\n",
    "            <encoding>utf-8</encoding>\n",
    "            <content>{naeringsspeifikasjon_base64}</content>\n",
    "        </dokument>\n",
    "    </dokumenter>\n",
    "    <dokumentreferanseTilGjeldendeDokument>\n",
    "        <dokumenttype>skattemeldingUpersonlig</dokumenttype>\n",
    "        <dokumentidentifikator>{dok_ref}</dokumentidentifikator>\n",
    "    </dokumentreferanseTilGjeldendeDokument>\n",
    "    <inntektsaar>{inntektsaar}</inntektsaar>\n",
    "    <innsendingsinformasjon>\n",
    "        <innsendingstype>{innsendingstype}</innsendingstype>\n",
    "        <opprettetAv>TurboSkatt</opprettetAv>\n",
    "    </innsendingsinformasjon>\n",
    "</skattemeldingOgNaeringsspesifikasjonRequest>\n",
    "\"\"\".replace(\"\\n\",\"\")\n",
    "\n",
    "\n",
    "naering_as = valider_konvlutt_v2.format(sme_base64=sme_b64,\n",
    "                                         naeringsspeifikasjon_base64=naeringsspesifikasjoner_base64,\n",
    "                                         dok_ref=dokref,\n",
    "                                         inntektsaar=inntektsaar,\n",
    "                                         innsendingstype=innsendingstype)"
   ]
  },
  {
   "cell_type": "markdown",
   "metadata": {
    "pycharm": {
     "name": "#%% md\n"
    }
   },
   "source": [
    "# Valider utkast sme med næringsopplysninger"
   ]
  },
  {
   "cell_type": "code",
   "execution_count": null,
   "metadata": {
    "pycharm": {
     "name": "#%%\n"
    }
   },
   "outputs": [],
   "source": [
    "def valider_sme(payload):\n",
    "    url_valider = f'{skatteetaten_url}/api/skattemelding/v2/valider/{inntektsaar}/{orgnr_as}'\n",
    "    header = dict(idporten_header)\n",
    "    header[\"Content-Type\"] = \"application/xml\"\n",
    "    return s.post(url_valider, headers=header, data=payload)\n",
    "\n",
    "valider_respons = valider_sme(naering_as)\n",
    "resultatAvValidering = xmltodict.parse(valider_respons.text)[\"skattemeldingOgNaeringsspesifikasjonResponse\"][\"resultatAvValidering\"]\n",
    "\n",
    "if valider_respons:\n",
    "    print(resultatAvValidering + \"\\n\")\n",
    "    print(xml.dom.minidom.parseString(valider_respons.text).toprettyxml())\n",
    "else:\n",
    "    print(valider_respons.status_code, valider_respons.headers, valider_respons.text)"
   ]
  },
  {
   "cell_type": "markdown",
   "metadata": {
    "pycharm": {
     "name": "#%% md\n"
    }
   },
   "source": [
    "## Midlertidig lagret skattemelding\n",
    "I dette steget sender vi inn en skattemelding-xml som er opprettet av et sluttbrukersystem. Innsendingen vil også bli validert. For å kunne opprette en midlertidig lagret skattemelding for selskapet kreves det at du har en gyldig rolle i Altinn."
   ]
  },
  {
   "cell_type": "code",
   "execution_count": null,
   "metadata": {
    "pycharm": {
     "name": "#%%\n"
    }
   },
   "outputs": [],
   "source": [
    "header = dict(idporten_header)\n",
    "header[\"Content-Type\"] = \"application/xml\"\n",
    "midlertidig_lagring_path = \"/api/skattemelding/v2/til-midlertidig-lagret-skattemelding-for-visning-upersonlig\"\n",
    "r = s.post(f\"{skatteetaten_url}{midlertidig_lagring_path}/{orgnr_as}\", data=naering_as, headers=header)\n",
    "r"
   ]
  },
  {
   "cell_type": "markdown",
   "metadata": {
    "pycharm": {
     "name": "#%% md\n"
    }
   },
   "source": [
    "### Print link til midlertidig lagret skattemelding\n",
    "I dette steget kan du trykke på lenken som åpner visning av utkastet. Alle som har en gyldig rolle i Altinn mot selskapet vil kunne åpne denne lenken."
   ]
  },
  {
   "cell_type": "code",
   "execution_count": null,
   "metadata": {
    "pycharm": {
     "name": "#%%\n"
    }
   },
   "outputs": [],
   "source": [
    "print(r.json()['url'])"
   ]
  }
 ],
 "metadata": {
  "interpreter": {
   "hash": "aee8b7b246df8f9039afb4144a1f6fd8d2ca17a180786b69acc140d282b71a49"
  },
  "kernelspec": {
   "display_name": "Python 3",
   "language": "python",
   "name": "python3"
  },
  "language_info": {
   "codemirror_mode": {
    "name": "ipython",
    "version": 3
   },
   "file_extension": ".py",
   "mimetype": "text/x-python",
   "name": "python",
   "nbconvert_exporter": "python",
   "pygments_lexer": "ipython3",
   "version": "3.9.16"
  }
 },
 "nbformat": 4,
 "nbformat_minor": 4
}
