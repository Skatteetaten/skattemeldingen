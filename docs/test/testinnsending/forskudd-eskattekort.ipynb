{
 "cells": [
  {
   "cell_type": "markdown",
   "source": "# Eskattekort bestill skattekort",
   "metadata": {
    "collapsed": false
   }
  },
  {
   "metadata": {
    "collapsed": false
   },
   "cell_type": "code",
   "source": [
    "from docs.test.testinnsending.skatteetaten_api import get_access_token\n",
    "from requests import post,get\n",
    "from faker import Faker\n",
    "import jwt\n",
    "import uuid\n",
    "import pprint\n",
    "\n",
    "header = get_access_token(scope='skatteetaten:forskudd altinn:instances.read altinn:instances.write openid')\n",
    "header[\"Content-Type\"] = \"application/xml\"\n",
    "header[\"Accept\"] = \"application/json\"\n",
    "\n",
    "payload = \"\"\"\n",
    "<?xml version=\"1.0\" encoding=\"UTF-8\"?><skattekortRequest xmlns=\"urn:no:skatteetaten:fastsetting:formueinntekt:forskudd:skattekortrequest:v3\" xmlns:ns2=\"urn:ske:informasjonsrammeverk:typekatalog\">\n",
    "<inntektsaar>2134</inntektsaar>\n",
    "<forespoerselOmSkattekortTilArbeidsgiver>\n",
    "<arbeidsgiver>\n",
    "<inntektsaar xmlns:xs=\"http://www.w3.org/2001/XMLSchema\" xmlns:xsi=\"http://www.w3.org/2001/XMLSchema-instance\" xsi:type=\"xs:int\">2025</inntektsaar>\n",
    "<arbeidsgiveridentifikator>\n",
    "<organisasjonsnummer>1235</organisasjonsnummer>\n",
    "</arbeidsgiveridentifikator>\n",
    "<arbeidstakeridentifikator>123551</arbeidstakeridentifikator>\n",
    "</arbeidsgiver>\n",
    "</forespoerselOmSkattekortTilArbeidsgiver>\n",
    "<innsenderidentifikator>\n",
    "<organisasjonsnummer>14529519886</organisasjonsnummer>\n",
    "</innsenderidentifikator>\n",
    "<spraakPaaInnsending>NB</spraakPaaInnsending>\n",
    "<kontaktinformasjon>\n",
    "<ns2:navn>Navn</ns2:navn>\n",
    "<ns2:epostadresse>1234</ns2:epostadresse>\n",
    "<ns2:mobiltelefonummer>123515</ns2:mobiltelefonummer>\n",
    "<ns2:smsNummer>1235</ns2:smsNummer>\n",
    "</kontaktinformasjon>\n",
    "<meldingstype>medVedleggUtenEndring</meldingstype>\n",
    "<varslingstype>noe</varslingstype>\n",
    "<endringFraDato>2025-02-06</endringFraDato>\n",
    "</skattekortRequest>\n",
    "\"\"\".strip()\n",
    "\n",
    "def print_respons(r):\n",
    "    pp = pprint.PrettyPrinter(indent=4)\n",
    "\n",
    "    print(f\"{r.request.method} {r.request.url}\\n\")\n",
    "    pp.pprint(f\"{r.request.headers}\")\n",
    "    print(f\"http {r.status_code}\")\n",
    "    pp.pprint(f\"{r.headers}\\n{r.text}\")\n"
   ],
   "outputs": [],
   "execution_count": null
  },
  {
   "metadata": {},
   "cell_type": "code",
   "source": [
    "url_path = f\"/api/forskudd/bestillSkattekort\"\n",
    "base_url = \"https://idporten-api-test.sits.no\"\n",
    "url=base_url+url_path\n",
    "print(f\"url: {url}\")"
   ],
   "outputs": [],
   "execution_count": null
  },
  {
   "metadata": {},
   "cell_type": "code",
   "source": [
    "\n",
    "bestillSkattekort_request = post(url, headers=header, data=payload)\n",
    "\n",
    "print_respons(bestillSkattekort_request)\n"
   ],
   "outputs": [],
   "execution_count": null
  },
  {
   "metadata": {},
   "cell_type": "markdown",
   "source": ""
  }
 ],
 "metadata": {
  "kernelspec": {
   "display_name": "Python 3",
   "language": "python",
   "name": "python3"
  },
  "language_info": {
   "codemirror_mode": {
    "name": "ipython",
    "version": 2
   },
   "file_extension": ".py",
   "mimetype": "text/x-python",
   "name": "python",
   "nbconvert_exporter": "python",
   "pygments_lexer": "ipython2",
   "version": "2.7.6"
  }
 },
 "nbformat": 4,
 "nbformat_minor": 0
}
