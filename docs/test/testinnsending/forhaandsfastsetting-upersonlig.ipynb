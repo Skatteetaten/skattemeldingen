{
 "cells": [
  {
   "cell_type": "code",
   "execution_count": 1,
   "id": "initial_id",
   "metadata": {
    "collapsed": true,
    "ExecuteTime": {
     "end_time": "2024-03-22T11:44:10.446200Z",
     "start_time": "2024-03-22T11:44:08.742689Z"
    }
   },
   "outputs": [
    {
     "name": "stderr",
     "output_type": "stream",
     "text": [
      "/Users/m93645/skattemeldingen/venv/lib/python3.12/site-packages/requests/__init__.py:89: RequestsDependencyWarning: urllib3 (2.1.0) or chardet (3.0.4) doesn't match a supported version!\n",
      "  warnings.warn(\"urllib3 ({}) or chardet ({}) doesn't match a supported \"\n"
     ]
    }
   ],
   "source": [
    "try:\n",
    "    from altinn3 import *\n",
    "    from skatteetaten_api import get_access_token, base64_decode_response, decode_dokument\n",
    "    import requests\n",
    "    import base64\n",
    "    import xmltodict\n",
    "    import xml.dom.minidom\n",
    "    from pathlib import Path\n",
    "except ImportError as e:\n",
    "    print(\"Mangler en eller avhengighet, installer dem via pip, se requierments.txt fil for detaljer\")\n",
    "    raise ImportError(e)\n"
   ]
  },
  {
   "cell_type": "code",
   "execution_count": 2,
   "outputs": [],
   "source": [
    "def hent_gjeldende_skattemelding_og_sjekk_foraandsfastsettingstype(orgnr, inntektsaar):\n",
    "    url_gjeldende = f'{base_url}/api/skattemelding/v2/{inntektsaar}/{orgnr}'\n",
    "    r_gjeldende = s.get(url_gjeldende)\n",
    "\n",
    "    if r_gjeldende:\n",
    "        sme_og_naering_respons = xmltodict.parse(r_gjeldende.text)\n",
    "        skattemelding_base64 = sme_og_naering_respons[\"skattemeldingOgNaeringsspesifikasjonforespoerselResponse\"][\"dokumenter\"][\"skattemeldingdokument\"]\n",
    "        decoded_sme_xml = decode_dokument(skattemelding_base64)\n",
    "        sme_xml = xml.dom.minidom.parseString(decoded_sme_xml[\"content\"]).toprettyxml()\n",
    "        sme_dict = xmltodict.parse(sme_xml)\n",
    "        if \"gjelderForhaandsfastsetting\" in sme_dict[\"skattemelding\"]:\n",
    "            forhaandsfastsetting =  sme_dict[\"skattemelding\"][\"gjelderForhaandsfastsetting\"]['innsendingsformat']['forhaandsfastsettingsformattype']\n",
    "        else:\n",
    "            forhaandsfastsetting = \"Parten har publisert skattemelding, men ikke klargjort for foråndsfastsetting, vil følge ordniært fastsettings løp\"\n",
    "        return forhaandsfastsetting\n",
    "    else:\n",
    "        return (r_gjeldende.status_code, r_gjeldende.text)\n"
   ],
   "metadata": {
    "collapsed": false,
    "ExecuteTime": {
     "end_time": "2024-03-22T11:44:10.457294Z",
     "start_time": "2024-03-22T11:44:10.450805Z"
    }
   },
   "id": "4cb14ff040bd1a1e"
  },
  {
   "cell_type": "code",
   "execution_count": 3,
   "outputs": [],
   "source": [
    "inntektsaar = \"2024\"\n",
    "base_url = \"https://idporten-api-test.sits.no\"\n",
    "orgnr = \"313074293\" # bruk TENOR til å finne en part uten fastsetting av skattemeldingen og hvem som er daglig leder for orgnr (15859797943)\n"
   ],
   "metadata": {
    "collapsed": false,
    "ExecuteTime": {
     "end_time": "2024-03-22T11:44:10.460220Z",
     "start_time": "2024-03-22T11:44:10.456216Z"
    }
   },
   "id": "fe6ba506b16eaee5"
  },
  {
   "cell_type": "code",
   "execution_count": 4,
   "outputs": [
    {
     "name": "stdout",
     "output_type": "stream",
     "text": [
      "The token is good, expires at 13:44:21 (3600 seconds from now)\n"
     ]
    },
    {
     "name": "stderr",
     "output_type": "stream",
     "text": [
      "127.0.0.1 - - [22/Mar/2024 12:44:21] \"GET /token?code=mLMU21nOGhXzCLL0s-knbA.NgLABFTtUfiXqrbl36z4pA&iss=https%3A%2F%2Ftest.idporten.no&state=UtqOqtNj6XCtaydsGXOj0w HTTP/1.1\" 200 -\n"
     ]
    }
   ],
   "source": [
    "idporten_header = get_access_token()\n",
    "s = requests.Session()\n",
    "s.headers = dict(idporten_header)\n"
   ],
   "metadata": {
    "collapsed": false,
    "ExecuteTime": {
     "end_time": "2024-03-22T11:44:21.641106Z",
     "start_time": "2024-03-22T11:44:15.782453Z"
    }
   },
   "id": "8069b202d95f9df9"
  },
  {
   "cell_type": "code",
   "execution_count": 6,
   "outputs": [
    {
     "name": "stdout",
     "output_type": "stream",
     "text": [
      "Orgnr har følgende status: (403, 'Skattemeldingen er ikke tilgjengelig ennå. Prøv igjen senere.') \n"
     ]
    }
   ],
   "source": [
    "#Hent gjeldende skattemelding, sjekker om den er klar, og om den har forhåndsfastsetting informasjon\n",
    "sme_status = hent_gjeldende_skattemelding_og_sjekk_foraandsfastsettingstype(orgnr, inntektsaar)\n",
    "print(f\"Orgnr har følgende status: {sme_status} \")\n"
   ],
   "metadata": {
    "collapsed": false,
    "ExecuteTime": {
     "end_time": "2024-03-22T11:45:07.584077Z",
     "start_time": "2024-03-22T11:45:06.579169Z"
    }
   },
   "id": "b8a3a2eef23b63a4"
  },
  {
   "cell_type": "code",
   "execution_count": 7,
   "outputs": [
    {
     "name": "stdout",
     "output_type": "stream",
     "text": [
      "{\"status\":\"OK\"}\n"
     ]
    }
   ],
   "source": [
    "url_klargjoer_forhaandsfastsetting = f\"{base_url}/api/skattemelding/v2/klargjoerforhaandsfastsetting/{inntektsaar}/{orgnr}\"\n",
    "\n",
    "\n",
    "idporten_header[\"content-type\"] = \"application/json\"\n",
    "r_klargjoer = requests.post(url_klargjoer_forhaandsfastsetting, headers=idporten_header)\n",
    "if r_klargjoer and (\"application/json\" in r_klargjoer.headers[\"content-type\"]): \n",
    "    print(r_klargjoer.text)\n",
    "else:\n",
    "    print(r_klargjoer)\n",
    "    "
   ],
   "metadata": {
    "collapsed": false,
    "ExecuteTime": {
     "end_time": "2024-03-22T11:45:11.936173Z",
     "start_time": "2024-03-22T11:45:10.097689Z"
    }
   },
   "id": "6b44c68cc1713f76"
  },
  {
   "cell_type": "code",
   "outputs": [
    {
     "data": {
      "text/plain": "'{\"status\":\"OK\"}'"
     },
     "execution_count": 8,
     "metadata": {},
     "output_type": "execute_result"
    }
   ],
   "source": [
    "r_klargjoer.text"
   ],
   "metadata": {
    "collapsed": false,
    "ExecuteTime": {
     "end_time": "2024-03-22T11:45:13.393525Z",
     "start_time": "2024-03-22T11:45:13.387311Z"
    }
   },
   "id": "700abf7fc9e8f06b",
   "execution_count": 8
  },
  {
   "cell_type": "code",
   "execution_count": null,
   "outputs": [],
   "source": [
    "sme_status = hent_gjeldende_skattemelding_og_sjekk_foraandsfastsettingstype(orgnr, inntektsaar)\n",
    "print(f\"Skattemeldingen er publisert, og foråhndsfastsettings type: {sme_status} \")\n",
    "\n"
   ],
   "metadata": {
    "collapsed": false
   },
   "id": "e33abbd477790aa6"
  }
 ],
 "metadata": {
  "kernelspec": {
   "display_name": "Python 3",
   "language": "python",
   "name": "python3"
  },
  "language_info": {
   "codemirror_mode": {
    "name": "ipython",
    "version": 2
   },
   "file_extension": ".py",
   "mimetype": "text/x-python",
   "name": "python",
   "nbconvert_exporter": "python",
   "pygments_lexer": "ipython2",
   "version": "2.7.6"
  }
 },
 "nbformat": 4,
 "nbformat_minor": 5
}
