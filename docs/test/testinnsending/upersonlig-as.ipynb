{
 "cells": [
  {
   "cell_type": "markdown",
   "metadata": {},
   "source": [
    "# Testinnsening av upersonlig skattemelding med næringspesifikasjon\n",
    "Denne demoen er ment for å vise hvordan flyten for et sluttbrukersystem kan hente et utkast, gjøre endringer, validere/kontrollere det mot Skatteetatens apier, for å sende det inn via Altinn3. "
   ]
  },
  {
   "cell_type": "code",
   "execution_count": null,
   "outputs": [],
   "source": [
    "try: \n",
    "    from altinn3 import *\n",
    "    from skatteetaten_api import get_access_token, base64_decode_response, decode_dokument, skattemelding_visning\n",
    "    import requests\n",
    "    import base64\n",
    "    import xmltodict\n",
    "    import xml.dom.minidom\n",
    "    from pathlib import Path\n",
    "except ImportError as e:\n",
    "    print(\"Mangler en avhengighet, installer dem via pip\")\n",
    "    !pip install python-jose\n",
    "    !pip install xmltodict\n",
    "    !pip install pathlib\n",
    "    import xmltodict\n",
    "    from skatteetaten_api import get_access_token, base64_decode_response, decode_dokument, skattemelding_visning\n"
   ],
   "metadata": {
    "collapsed": false,
    "pycharm": {
     "name": "#%%\n"
    }
   }
  },
  {
   "cell_type": "code",
   "execution_count": null,
   "outputs": [],
   "source": [
    "idporten_header = get_access_token()"
   ],
   "metadata": {
    "collapsed": false,
    "pycharm": {
     "name": "#%%\n"
    }
   }
  },
  {
   "cell_type": "markdown",
   "source": [
    "# Hent utkast og gjeldende\n",
    "Her legger vi inn fødselsnummeret vi logget oss inn med, Dersom du velger et annet fødselsnummer så må den du logget på med ha tilgang til skattemeldingen du ønsker å hente\n",
    "\n",
    "#### Parten nedenfor er brukt for demostrasjon, pass på bruk deres egne testparter når dere tester\n",
    "\n",
    "\n",
    "01014701377 er daglig leder for 811422762 "
   ],
   "metadata": {
    "collapsed": false,
    "pycharm": {
     "name": "#%% md\n"
    }
   }
  },
  {
   "cell_type": "code",
   "execution_count": null,
   "outputs": [],
   "source": [
    "s = requests.Session()\n",
    "s.headers = dict(idporten_header)\n",
    "fnr=\"30047301331\" #oppdater med test fødselsnummerene du har fått tildelt\n",
    "orgnr_as = \"910236490\""
   ],
   "metadata": {
    "collapsed": false,
    "pycharm": {
     "name": "#%%\n"
    }
   }
  },
  {
   "cell_type": "markdown",
   "source": [
    "### Utkast"
   ],
   "metadata": {
    "collapsed": false,
    "pycharm": {
     "name": "#%% md\n"
    }
   }
  },
  {
   "cell_type": "code",
   "execution_count": null,
   "outputs": [],
   "source": [
    "url_utkast = f'https://idporten-api-test.sits.no/api/skattemelding/v2/utkast/2021/{orgnr_as}'\n",
    "\n",
    "r = s.get(url_utkast)\n",
    "r"
   ],
   "metadata": {
    "collapsed": false,
    "pycharm": {
     "name": "#%%\n"
    }
   }
  },
  {
   "cell_type": "markdown",
   "source": [
    "### Gjeldende"
   ],
   "metadata": {
    "collapsed": false,
    "pycharm": {
     "name": "#%% md\n"
    }
   }
  },
  {
   "cell_type": "code",
   "execution_count": null,
   "outputs": [],
   "source": [
    "url_gjeldende = f'https://idporten-api-test.sits.no/api/skattemelding/v2/2021/{orgnr_as}'\n",
    "r_gjeldende = s.get(url_gjeldende)\n",
    "r_gjeldende"
   ],
   "metadata": {
    "collapsed": false,
    "pycharm": {
     "name": "#%%\n"
    }
   }
  },
  {
   "cell_type": "markdown",
   "source": [
    "## Fastsatt\n",
    "Her får en _http 404_ om vedkommende ikke har noen fastsetting, rekjørt denne etter du har sendt inn og fått tilbakemdling i Altinn at den har blitt behandlet, du skal nå ha en fastsatt skattemelding om den har blitt sent inn som Komplett"
   ],
   "metadata": {
    "collapsed": false,
    "pycharm": {
     "name": "#%% md\n"
    }
   }
  },
  {
   "cell_type": "code",
   "execution_count": null,
   "outputs": [],
   "source": [
    "url_fastsatt = f'https://idporten-api-test.sits.no/api/skattemelding/v2/fastsatt/2021/{orgnr_as}'\n",
    "r_fastsatt = s.get(url_fastsatt)\n",
    "r_fastsatt"
   ],
   "metadata": {
    "collapsed": false,
    "pycharm": {
     "name": "#%%\n"
    }
   }
  },
  {
   "cell_type": "code",
   "execution_count": null,
   "outputs": [],
   "source": [
    "r_fastsatt.headers"
   ],
   "metadata": {
    "collapsed": false,
    "pycharm": {
     "name": "#%%\n"
    }
   }
  },
  {
   "cell_type": "markdown",
   "source": [
    "## Svar fra hent gjeldende \n",
    "\n",
    "### Gjeldende dokument referanse: \n",
    "I responsen på alle api kallene, være seg utkast/fastsatt eller gjeldene, så følger det med en dokumentreferanse. \n",
    "For å kalle valider tjenesten, er en avhengig av å bruke korrekt referanse til gjeldende skattemelding. \n",
    "\n",
    "Cellen nedenfor henter ut gjeldende dokumentreferanse printer ut responsen fra hent gjeldende kallet "
   ],
   "metadata": {
    "collapsed": false,
    "pycharm": {
     "name": "#%% md\n"
    }
   }
  },
  {
   "cell_type": "code",
   "execution_count": null,
   "outputs": [],
   "source": [
    "sjekk_svar = r_gjeldende\n",
    "\n",
    "sme_og_naering_respons = xmltodict.parse(sjekk_svar.text)\n",
    "skattemelding_base64 = sme_og_naering_respons[\"skattemeldingOgNaeringsspesifikasjonforespoerselResponse\"][\"dokumenter\"][\"skattemeldingdokument\"]\n",
    "sme_base64 = skattemelding_base64[\"content\"]\n",
    "dokref = sme_og_naering_respons[\"skattemeldingOgNaeringsspesifikasjonforespoerselResponse\"][\"dokumenter\"]['skattemeldingdokument']['id']\n",
    "decoded_sme_xml = decode_dokument(skattemelding_base64)\n",
    "sme_utkast = xml.dom.minidom.parseString(decoded_sme_xml[\"content\"]).toprettyxml()\n",
    "\n",
    "print(f\"Responsen fra hent gjeldende ser slik ut, gjeldende dokumentrerefanse er {dokref}\")\n",
    "print(sjekk_svar.request.method ,sjekk_svar.request.url)\n",
    "print(xml.dom.minidom.parseString(sjekk_svar.text).toprettyxml())\n"
   ],
   "metadata": {
    "collapsed": false,
    "pycharm": {
     "name": "#%%\n"
    }
   }
  },
  {
   "cell_type": "code",
   "execution_count": null,
   "outputs": [],
   "source": [
    "#Legg merge til dokumenter.dokument.type = skattemeldingUpersonlig\n",
    "\n",
    "with open(\"../../../src/resources/eksempler/v2/Naeringspesifikasjon-AS-v2.xml\", 'r') as f:\n",
    "    naering_as_xml = f.read()\n",
    "    \n",
    "innsendingstype = \"komplett\"\n",
    "naeringsspesifikasjoner_as_b64 = base64.b64encode(naering_as_xml.encode(\"utf-8\"))\n",
    "naeringsspesifikasjoner_as_b64 = str(naeringsspesifikasjoner_as_b64.decode(\"utf-8\"))\n",
    "naeringsspesifikasjoner_base64=naeringsspesifikasjoner_as_b64\n",
    "\n",
    "\n",
    "with open(\"../../../src/resources/eksempler/v2/upersonligSkattemeldingMedVerdiBakAksjer.xml\", 'r') as f:\n",
    "    sme_verdi_bak_aksjer = f.read()\n",
    "    sme_b64 = base64.b64encode(sme_verdi_bak_aksjer.encode(\"utf-8\"))\n",
    "    sme_b64 = str(sme_b64.decode(\"utf-8\"))\n",
    "\n",
    "\n",
    "valider_konvlutt_v2 = \"\"\"\n",
    "<?xml version=\"1.0\" encoding=\"utf-8\" ?>\n",
    "<skattemeldingOgNaeringsspesifikasjonRequest xmlns=\"no:skatteetaten:fastsetting:formueinntekt:skattemeldingognaeringsspesifikasjon:request:v2\">\n",
    "    <dokumenter>\n",
    "        <dokument>\n",
    "            <type>skattemeldingUpersonlig</type>\n",
    "            <encoding>utf-8</encoding>\n",
    "            <content>{sme_base64}</content>\n",
    "        </dokument>\n",
    "        <dokument>\n",
    "            <type>naeringsspesifikasjon</type>\n",
    "            <encoding>utf-8</encoding>\n",
    "            <content>{naeringsspeifikasjon_base64}</content>\n",
    "        </dokument>\n",
    "    </dokumenter>\n",
    "    <dokumentreferanseTilGjeldendeDokument>\n",
    "        <dokumenttype>skattemeldingUpersonlig</dokumenttype>\n",
    "        <dokumentidentifikator>{dok_ref}</dokumentidentifikator>\n",
    "    </dokumentreferanseTilGjeldendeDokument>\n",
    "    <inntektsaar>2021</inntektsaar>\n",
    "    <innsendingsinformasjon>\n",
    "        <innsendingstype>{innsendingstype}</innsendingstype>\n",
    "        <opprettetAv>TurboSkatt</opprettetAv>\n",
    "    </innsendingsinformasjon>\n",
    "</skattemeldingOgNaeringsspesifikasjonRequest>\n",
    "\"\"\".replace(\"\\n\",\"\")\n",
    "\n",
    "\n",
    "naering_enk = valider_konvlutt_v2.format(sme_base64=sme_b64,\n",
    "                                         naeringsspeifikasjon_base64=naeringsspesifikasjoner_base64,\n",
    "                                         dok_ref=dokref,\n",
    "                                        innsendingstype=innsendingstype)"
   ],
   "metadata": {
    "collapsed": false,
    "pycharm": {
     "name": "#%%\n"
    }
   }
  },
  {
   "cell_type": "markdown",
   "source": [
    "# Valider utkast sme med næringsopplysninger"
   ],
   "metadata": {
    "collapsed": false,
    "pycharm": {
     "name": "#%% md\n"
    }
   }
  },
  {
   "cell_type": "code",
   "execution_count": null,
   "outputs": [],
   "source": [
    "def valider_sme(payload):\n",
    "    url_valider = f'https://idporten-api-test.sits.no/api/skattemelding/v2/valider/2021/{orgnr_as}'\n",
    "    header = dict(idporten_header)\n",
    "    header[\"Content-Type\"] = \"application/xml\"\n",
    "    return s.post(url_valider, headers=header, data=payload)\n",
    "\n",
    "\n",
    "valider_respons = valider_sme(naering_enk)\n",
    "resultatAvValidering = xmltodict.parse(valider_respons.text)[\"skattemeldingOgNaeringsspesifikasjonResponse\"][\"resultatAvValidering\"]\n",
    "\n",
    "if valider_respons:\n",
    "    print(resultatAvValidering)\n",
    "    print()\n",
    "    print(xml.dom.minidom.parseString(valider_respons.text).toprettyxml())\n",
    "else:\n",
    "    print(valider_respons.status_code, valider_respons.headers, valider_respons.text)"
   ],
   "metadata": {
    "collapsed": false,
    "pycharm": {
     "name": "#%%\n"
    }
   }
  },
  {
   "cell_type": "markdown",
   "source": [
    "# Altinn 3"
   ],
   "metadata": {
    "collapsed": false,
    "pycharm": {
     "name": "#%% md\n"
    }
   }
  },
  {
   "cell_type": "markdown",
   "source": [
    "1. Hent Altinn Token\n",
    "2. Oppretter en ny instans av skjemaet\n",
    "3. Laster opp skattemeldingen og næringsopplysninger som et vedlegg"
   ],
   "metadata": {
    "collapsed": false,
    "pycharm": {
     "name": "#%% md\n"
    }
   }
  },
  {
   "cell_type": "code",
   "execution_count": null,
   "outputs": [],
   "source": [
    "#1\n",
    "altinn3_applikasjon = \"skd/formueinntekt-skattemelding-v2\"\n",
    "altinn_header = hent_altinn_token(idporten_header)\n",
    "#2\n",
    "instans_data = opprett_ny_instans_med_inntektsaar(altinn_header, \"2021\", orgnr=orgnr_as, appnavn=altinn3_applikasjon)"
   ],
   "metadata": {
    "collapsed": false,
    "pycharm": {
     "name": "#%%\n"
    }
   }
  },
  {
   "cell_type": "markdown",
   "source": [
    "## Last opp skattemelding"
   ],
   "metadata": {
    "collapsed": false,
    "pycharm": {
     "name": "#%% md\n"
    }
   }
  },
  {
   "cell_type": "code",
   "execution_count": null,
   "outputs": [],
   "source": [
    "#Last opp skattemeldingen\n",
    "req_send_inn = last_opp_skattedata(instans_data, altinn_header, \n",
    "                                   xml=naering_enk, \n",
    "                                   data_type=\"skattemeldingOgNaeringsspesifikasjon\",\n",
    "                                   appnavn=altinn3_applikasjon)\n",
    "req_send_inn"
   ],
   "metadata": {
    "collapsed": false,
    "pycharm": {
     "name": "#%%\n"
    }
   }
  },
  {
   "cell_type": "markdown",
   "source": [
    "### Sett statusen klar til bekreftelse."
   ],
   "metadata": {
    "collapsed": false,
    "pycharm": {
     "name": "#%% md\n"
    }
   }
  },
  {
   "cell_type": "code",
   "execution_count": null,
   "outputs": [],
   "source": [
    "req_bekreftelse = endre_prosess_status(instans_data, altinn_header, \"next\", appnavn=altinn3_applikasjon)"
   ],
   "metadata": {
    "collapsed": false,
    "pycharm": {
     "name": "#%%\n"
    }
   }
  },
  {
   "cell_type": "markdown",
   "source": [
    "### Åpner skattemelding visningsklient for å se beregnet skattemelding med næringsspesifikasjon."
   ],
   "metadata": {
    "collapsed": false,
    "pycharm": {
     "name": "#%% md\n"
    }
   }
  },
  {
   "cell_type": "code",
   "execution_count": null,
   "outputs": [],
   "source": [
    "from skatteetaten_api import skattemelding_visning\n",
    "\n",
    "url_skattemelding_visning = skattemelding_visning(instans_data, appnavn=altinn3_applikasjon)\n",
    "print(url_skattemelding_visning)"
   ],
   "metadata": {
    "collapsed": false,
    "pycharm": {
     "name": "#%%\n"
    }
   }
  },
  {
   "cell_type": "markdown",
   "source": [
    "### Sett statusen klar til henting av skatteetaten."
   ],
   "metadata": {
    "collapsed": false,
    "pycharm": {
     "name": "#%% md\n"
    }
   }
  },
  {
   "cell_type": "markdown",
   "source": [
    "req_bekreftelse = endre_prosess_status(instans_data, altinn_header, \"next\", appnavn=altinn3_applikasjon)\n",
    "req_bekreftelse"
   ],
   "metadata": {
    "collapsed": false,
    "pycharm": {
     "name": "#%% md\n"
    }
   }
  },
  {
   "cell_type": "markdown",
   "source": [
    "### Framtidig: Sjekk status på altinn3 instansen om skatteetaten har hentet instansen. "
   ],
   "metadata": {
    "collapsed": false,
    "pycharm": {
     "name": "#%% md\n"
    }
   }
  },
  {
   "cell_type": "markdown",
   "source": [
    "### Se innsending i Altinn\n",
    "\n",
    "Ta en slurk av kaffen og klapp deg selv på ryggen, du har nå sendt inn, la byråkratiet gjøre sin ting... og det tar litt tid. Pt så sjekker skatteeaten hos Altinn3 hvert 5 min om det har kommet noen nye innsendinger. "
   ],
   "metadata": {
    "collapsed": false,
    "pycharm": {
     "name": "#%% md\n"
    }
   }
  }
 ],
 "metadata": {
  "kernelspec": {
   "display_name": "Python 3",
   "language": "python",
   "name": "python3"
  },
  "language_info": {
   "codemirror_mode": {
    "name": "ipython",
    "version": 3
   },
   "file_extension": ".py",
   "mimetype": "text/x-python",
   "name": "python",
   "nbconvert_exporter": "python",
   "pygments_lexer": "ipython3",
   "version": "3.9.6"
  }
 },
 "nbformat": 4,
 "nbformat_minor": 4
}
