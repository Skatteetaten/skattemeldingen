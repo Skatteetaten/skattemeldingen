{
 "cells": [
  {
   "cell_type": "code",
   "execution_count": 1,
   "id": "initial_id",
   "metadata": {
    "collapsed": true,
    "ExecuteTime": {
     "end_time": "2023-09-14T09:24:22.864985Z",
     "start_time": "2023-09-14T09:24:21.958095Z"
    }
   },
   "outputs": [
    {
     "name": "stdout",
     "output_type": "stream",
     "text": [
      "The token is good, expires at 12:24:22 (3600 seconds from now)\n"
     ]
    },
    {
     "name": "stderr",
     "output_type": "stream",
     "text": [
      "127.0.0.1 - - [14/Sep/2023 11:24:22] \"GET /token?code=3UrJ4pvSRW4hqqe9BaVsPw.EYCFhXWPQg4MP_UAMmHtnQ&iss=https%3A%2F%2Ftest.idporten.no&state=h-TUz-5UHB1QXt6yru5shg HTTP/1.1\" 200 -\n"
     ]
    }
   ],
   "source": [
    "from skatteetaten_api import get_access_token\n",
    "import requests \n",
    "\n",
    "fnr = \"15827399792\"\n",
    "idporten_header = get_access_token()"
   ]
  },
  {
   "cell_type": "code",
   "execution_count": 5,
   "outputs": [
    {
     "data": {
      "text/plain": "<Response [403]>"
     },
     "execution_count": 5,
     "metadata": {},
     "output_type": "execute_result"
    }
   ],
   "source": [
    "\n",
    "skatteetaten_url = \"https://idporten-api-test.sits.no\"\n",
    "# skatteetaten_url = \"http://skattemelding-api-relay.fastsetting.formueinntekt.skattemelding.sit-feature-markus.apps.utv03.paas.skead.no\"\n",
    "ping_path = \"/api/skattemelding/v2/ping\"\n",
    "ping = requests.get(skatteetaten_url + ping_path, headers=idporten_header)\n",
    "ping"
   ],
   "metadata": {
    "collapsed": false,
    "ExecuteTime": {
     "end_time": "2023-09-14T10:05:31.501318Z",
     "start_time": "2023-09-14T10:05:31.415430Z"
    }
   },
   "id": "c2872c70513be3a6"
  },
  {
   "cell_type": "code",
   "execution_count": null,
   "outputs": [],
   "source": [],
   "metadata": {
    "collapsed": false
   },
   "id": "a10ec56096201fc4"
  }
 ],
 "metadata": {
  "kernelspec": {
   "display_name": "Python 3",
   "language": "python",
   "name": "python3"
  },
  "language_info": {
   "codemirror_mode": {
    "name": "ipython",
    "version": 2
   },
   "file_extension": ".py",
   "mimetype": "text/x-python",
   "name": "python",
   "nbconvert_exporter": "python",
   "pygments_lexer": "ipython2",
   "version": "2.7.6"
  }
 },
 "nbformat": 4,
 "nbformat_minor": 5
}
