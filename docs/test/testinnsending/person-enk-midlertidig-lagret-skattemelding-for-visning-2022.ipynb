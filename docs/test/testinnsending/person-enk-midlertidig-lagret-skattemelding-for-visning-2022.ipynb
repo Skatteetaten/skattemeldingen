{
 "cells": [
  {
   "cell_type": "markdown",
   "metadata": {
    "pycharm": {
     "name": "#%% md\n"
    }
   },
   "source": [
    "# Midlertidig lagring av personlig skattemelding med næringspesifikasjon"
   ]
  },
  {
   "cell_type": "markdown",
   "metadata": {
    "pycharm": {
     "name": "#%% md\n"
    }
   },
   "source": [
    "Denne demoen er ment for å vise hvordan flyten for et sluttbrukersystem kan opprette en midlertidig lagret skattemelding"
   ]
  },
  {
   "cell_type": "code",
   "execution_count": 1,
   "metadata": {
    "pycharm": {
     "name": "#%%\n"
    }
   },
   "outputs": [],
   "source": [
    "try:\n",
    "    from skatteetaten_api import main_relay, base64_decode_response, decode_dokument\n",
    "    import requests\n",
    "    import base64\n",
    "    import xmltodict\n",
    "    import xml.dom.minidom\n",
    "    from pathlib import Path\n",
    "except ImportError as e:\n",
    "    print(\"Mangler en eller avhengighet, installer dem via pip, se requierments.txt fil for detaljer\")\n",
    "    raise ImportError(e)\n",
    "\n",
    "\n",
    "# hjelpe metode om du vil se en request printet som curl\n",
    "# noinspection PyShadowingNames\n",
    "def print_request_as_curl(r):\n",
    "    command = \"curl -X {method} -H {headers} -d '{data}' '{uri}'\"\n",
    "    method = r.request.method\n",
    "    uri = r.request.url\n",
    "    data = r.request.body\n",
    "    headers = ['\"{0}: {1}\"'.format(k, v) for k, v in r.request.headers.items()]\n",
    "    headers = \" -H \".join(headers)\n",
    "    print(command.format(method=method, headers=headers, data=data, uri=uri))"
   ]
  },
  {
   "cell_type": "markdown",
   "metadata": {
    "pycharm": {
     "name": "#%% md\n"
    }
   },
   "source": [
    "## Variabler som må endres i test\n",
    "Før testscriptet kjøres trengs det bare å definere URLer som skal brukes."
   ]
  },
  {
   "cell_type": "code",
   "execution_count": 2,
   "metadata": {
    "pycharm": {
     "name": "#%%\n"
    }
   },
   "outputs": [],
   "source": [
    "midlertidig_lagring_path = \"/api/skattemelding/v2/til-midlertidig-lagret-skattemelding-for-visning\"\n",
    "\n",
    "# oppdater med skattemelding-api-relay fra aktuelt testmiljø\n",
    "env = \"https://idporten-api-test.sits.no\"\n",
    "\n",
    "# oppdater med test fødselsnummerene du har fått tildelt\n",
    "fnr = \"09845297174\"\n",
    "\n",
    "# oppdater med ønsket innsendingstype - komplett / ikkeKomplett\n",
    "# typeInnsending = \"komplett\"\n",
    "typeInnsending = \"ikkeKomplett\"\n",
    "\n",
    "# oppdater med inntektsaar innsendingen gjelder for\n",
    "inntektsaar = 2022"
   ]
  },
  {
   "cell_type": "markdown",
   "metadata": {
    "pycharm": {
     "name": "#%% md\n"
    }
   },
   "source": [
    "## Generer ID-porten token\n",
    "Tokenet er gyldig i 300 sekunder, rekjørt denne biten om du ikke har nådd Altinn3 biten innen 300 sekunder"
   ]
  },
  {
   "cell_type": "code",
   "execution_count": null,
   "metadata": {
    "pycharm": {
     "name": "#%%\n"
    }
   },
   "outputs": [],
   "source": [
    "idporten_header = main_relay()\n",
    "s = requests.Session()\n",
    "s.headers = dict(idporten_header)"
   ]
  },
  {
   "cell_type": "markdown",
   "metadata": {
    "pycharm": {
     "name": "#%% md\n"
    }
   },
   "source": [
    "### Utkast"
   ]
  },
  {
   "cell_type": "code",
   "execution_count": null,
   "metadata": {
    "pycharm": {
     "name": "#%%\n"
    }
   },
   "outputs": [],
   "source": [
    "url_utkast = f'{env}/api/skattemelding/v2/utkast/{inntektsaar}/{fnr}'\n",
    "r = s.get(url_utkast)"
   ]
  },
  {
   "cell_type": "code",
   "execution_count": null,
   "metadata": {
    "pycharm": {
     "name": "#%%\n"
    }
   },
   "outputs": [],
   "source": [
    "print(r.text)"
   ]
  },
  {
   "cell_type": "markdown",
   "metadata": {
    "pycharm": {
     "name": "#%% md\n"
    }
   },
   "source": [
    "\n",
    "### Gjeldende"
   ]
  },
  {
   "cell_type": "code",
   "execution_count": null,
   "metadata": {
    "pycharm": {
     "name": "#%%\n"
    }
   },
   "outputs": [],
   "source": [
    "url_gjeldende = f'{env}/api/skattemelding/v2/{inntektsaar}/{fnr}'\n",
    "r_gjeldende = s.get(url_gjeldende)\n",
    "r_gjeldende"
   ]
  },
  {
   "cell_type": "markdown",
   "metadata": {
    "pycharm": {
     "name": "#%% md\n"
    }
   },
   "source": [
    "#### Fastsatt\n",
    "Her får en _http 404_ om vedkommende ikke har noen fastsetting, rekjørt denne etter du har sendt inn og fått tilbakemdling i Altinn at den har blitt behandlet, du skal nå ha en fastsatt skattemelding om den har blitt sent inn som Komplett"
   ]
  },
  {
   "cell_type": "code",
   "execution_count": null,
   "metadata": {
    "pycharm": {
     "name": "#%%\n"
    }
   },
   "outputs": [],
   "source": [
    "url_fastsatt = f'{env}/api/skattemelding/v2/fastsatt/{inntektsaar}/{fnr}'\n",
    "r_fastsatt = s.get(url_fastsatt)\n",
    "r_fastsatt"
   ]
  },
  {
   "cell_type": "markdown",
   "metadata": {
    "pycharm": {
     "name": "#%% md\n"
    }
   },
   "source": [
    "## Svar fra hent gjeldende \n",
    "\n",
    "### Gjeldende dokument referanse: \n",
    "I responsen på alle api kallene, være seg utkast/fastsatt eller gjeldene, så følger det med en dokumentreferanse. \n",
    "For å kalle valider tjenesten, er en avhengig av å bruke korrekt referanse til gjeldende skattemelding. \n",
    "\n",
    "Cellen nedenfor henter ut gjeldende dokumentreferanse printer ut responsen fra hent gjeldende kallet "
   ]
  },
  {
   "cell_type": "code",
   "execution_count": null,
   "metadata": {
    "pycharm": {
     "name": "#%%\n"
    }
   },
   "outputs": [],
   "source": [
    "sjekk_svar = r_gjeldende\n",
    "\n",
    "sme_og_naering_respons = xmltodict.parse(sjekk_svar.text)\n",
    "skattemelding_base64 = sme_og_naering_respons[\"skattemeldingOgNaeringsspesifikasjonforespoerselResponse\"][\"dokumenter\"][\"skattemeldingdokument\"]\n",
    "sme_base64 = skattemelding_base64[\"content\"]\n",
    "dokref = sme_og_naering_respons[\"skattemeldingOgNaeringsspesifikasjonforespoerselResponse\"][\"dokumenter\"]['skattemeldingdokument']['id']\n",
    "decoded_sme_xml = decode_dokument(skattemelding_base64)\n",
    "# noinspection PyUnboundLocalVariable\n",
    "sme_utkast = xml.dom.minidom.parseString(decoded_sme_xml[\"content\"]).toprettyxml()\n",
    "print(f\"Responsen fra hent gjeldende ser slik ut, gjeldende dokumentrerefanse er {dokref}\\n\")\n",
    "print(xml.dom.minidom.parseString(sjekk_svar.text).toprettyxml())\n",
    "\n",
    "sme_dict = xmltodict.parse(decoded_sme_xml['content'])\n",
    "partsnummer = sme_dict['skattemelding']['partsreferanse']"
   ]
  },
  {
   "cell_type": "code",
   "execution_count": null,
   "metadata": {
    "pycharm": {
     "name": "#%%\n"
    }
   },
   "outputs": [],
   "source": [
    "\n",
    "if inntektsaar == 2021: \n",
    "    with open(\"../../../src/resources/eksempler/2021/Naeringspesifikasjon-enk-v2.xml\", 'r') as f:\n",
    "        naering_enk_xml = f.read()\n",
    "elif inntektsaar == 2022:\n",
    "    with open(\"../../../src/resources/eksempler/2022/Naeringspesifikasjon-enk-v3.xml\", 'r') as f:\n",
    "        naering_enk_xml = f.read()\n",
    "\n",
    "innsendingstype = typeInnsending\n",
    "naeringsspesifikasjoner_enk_b64 = base64.b64encode(naering_enk_xml.encode(\"utf-8\"))\n",
    "naeringsspesifikasjoner_enk_b64 = str(naeringsspesifikasjoner_enk_b64.decode(\"utf-8\"))\n",
    "skattemeldingPersonligSkattepliktig_base64=sme_base64 #bruker utkastet uten noen endringer\n",
    "naeringsspesifikasjoner_base64=naeringsspesifikasjoner_enk_b64\n",
    "dok_ref=dokref\n",
    "inntektsaar_innsending=inntektsaar\n",
    "\n",
    "valider_konvlutt_v2 = \"\"\"\n",
    "<?xml version=\"1.0\" encoding=\"utf-8\" ?>\n",
    "<skattemeldingOgNaeringsspesifikasjonRequest xmlns=\"no:skatteetaten:fastsetting:formueinntekt:skattemeldingognaeringsspesifikasjon:request:v2\">\n",
    "    <dokumenter>\n",
    "        <dokument>\n",
    "            <type>skattemeldingPersonlig</type>\n",
    "            <encoding>utf-8</encoding>\n",
    "            <content>{sme_base64}</content>\n",
    "        </dokument>\n",
    "        <dokument>\n",
    "            <type>naeringsspesifikasjon</type>\n",
    "            <encoding>utf-8</encoding>\n",
    "            <content>{naeringsspeifikasjon_base64}</content>\n",
    "        </dokument>\n",
    "    </dokumenter>\n",
    "    <dokumentreferanseTilGjeldendeDokument>\n",
    "        <dokumenttype>skattemeldingPersonlig</dokumenttype>\n",
    "        <dokumentidentifikator>{dok_ref}</dokumentidentifikator>\n",
    "    </dokumentreferanseTilGjeldendeDokument>\n",
    "    <inntektsaar>{inntektsaar_innsending}</inntektsaar>\n",
    "    <innsendingsinformasjon>\n",
    "        <innsendingstype>{innsendingstype}</innsendingstype>\n",
    "        <opprettetAv>TurboSkatt</opprettetAv>\n",
    "    </innsendingsinformasjon>\n",
    "</skattemeldingOgNaeringsspesifikasjonRequest>\n",
    "\"\"\".replace(\"\\n\",\"\")\n",
    "\n",
    "\n",
    "naering_enk = valider_konvlutt_v2.format(\n",
    "    sme_base64=skattemeldingPersonligSkattepliktig_base64,\n",
    "    naeringsspeifikasjon_base64=naeringsspesifikasjoner_base64,\n",
    "    dok_ref=dok_ref,\n",
    "    inntektsaar_innsending=inntektsaar_innsending,\n",
    "    innsendingstype=innsendingstype)"
   ]
  },
  {
   "cell_type": "markdown",
   "metadata": {
    "pycharm": {
     "name": "#%% md\n"
    }
   },
   "source": [
    "# Valider utkast sme med næringsopplysninger"
   ]
  },
  {
   "cell_type": "code",
   "execution_count": null,
   "metadata": {
    "pycharm": {
     "name": "#%%\n"
    }
   },
   "outputs": [],
   "source": [
    "def valider_sme(payload):\n",
    "    url_valider = f'{env}/api/skattemelding/v2/valider/{inntektsaar}/{fnr}'\n",
    "    header = dict(idporten_header)\n",
    "    header[\"Content-Type\"] = \"application/xml\"\n",
    "    return s.post(url_valider, headers=header, data=payload)\n",
    "\n",
    "\n",
    "valider_respons = valider_sme(naering_enk)\n",
    "resultatAvValidering = xmltodict.parse(valider_respons.text)[\"skattemeldingOgNaeringsspesifikasjonResponse\"][\"resultatAvValidering\"]\n",
    "\n",
    "if valider_respons:\n",
    "    print(resultatAvValidering)\n",
    "    print()\n",
    "    print(xml.dom.minidom.parseString(valider_respons.text).toprettyxml())\n",
    "else:\n",
    "    print(valider_respons.status_code, valider_respons.headers, valider_respons.text)"
   ]
  },
  {
   "cell_type": "markdown",
   "metadata": {
    "pycharm": {
     "name": "#%% md\n"
    }
   },
   "source": [
    "## Midlertidig lagret skattemelding\n",
    "I dette steget sender vi inn en skattemelding-xml som er opprettet av et sluttbrukersystem."
   ]
  },
  {
   "cell_type": "code",
   "execution_count": null,
   "metadata": {
    "pycharm": {
     "name": "#%%\n"
    }
   },
   "outputs": [],
   "source": [
    "header = dict(idporten_header)\n",
    "header[\"Content-Type\"] = \"application/xml\"\n",
    "header[\"Korrelasjonsid\"] = \"319f5c9a-17e4-4e8e-a399-5a4899ccd84d\"\n",
    "r = s.post(f\"{env}{midlertidig_lagring_path}\", data=naering_enk, headers=header)\n",
    "r"
   ]
  },
  {
   "cell_type": "markdown",
   "metadata": {
    "pycharm": {
     "name": "#%% md\n"
    }
   },
   "source": [
    "### Print link til midlertidig lagret skattemelding"
   ]
  },
  {
   "cell_type": "code",
   "execution_count": null,
   "metadata": {
    "pycharm": {
     "name": "#%%\n"
    },
    "scrolled": true
   },
   "outputs": [],
   "source": [
    "print(r.json()['url'])"
   ]
  }
 ],
 "metadata": {
  "interpreter": {
   "hash": "aee8b7b246df8f9039afb4144a1f6fd8d2ca17a180786b69acc140d282b71a49"
  },
  "kernelspec": {
   "display_name": "Python 3",
   "language": "python",
   "name": "python3"
  },
  "language_info": {
   "codemirror_mode": {
    "name": "ipython",
    "version": 3
   },
   "file_extension": ".py",
   "mimetype": "text/x-python",
   "name": "python",
   "nbconvert_exporter": "python",
   "pygments_lexer": "ipython3",
   "version": "3.9.13"
  }
 },
 "nbformat": 4,
 "nbformat_minor": 4
}
